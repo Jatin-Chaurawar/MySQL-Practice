{
 "cells": [
  {
   "cell_type": "code",
   "execution_count": 8,
   "id": "3e7d9b04-11b5-4244-a338-dc9f1113ed22",
   "metadata": {},
   "outputs": [
    {
     "name": "stdout",
     "output_type": "stream",
     "text": [
      "23\n",
      "Jatin\n",
      "Atharva\n",
      "after swaping:\n",
      "x= 30\n",
      "y= 10\n"
     ]
    }
   ],
   "source": [
    "# Basic variable usage\n",
    "# 1\n",
    "age=23\n",
    "print(age)\n",
    "\n",
    "# 2\n",
    "name=\"Jatin\"\n",
    "print(name)\n",
    "name=\"Atharva\"\n",
    "print(name)\n",
    "\n",
    "# 3\n",
    "x=10\n",
    "y=30\n",
    "x=x+y\n",
    "y=x-y\n",
    "x=x-y\n",
    "print(\"after swaping:\")\n",
    "print(\"x=\",x)\n",
    "print(\"y=\",y)"
   ]
  },
  {
   "cell_type": "code",
   "execution_count": 10,
   "id": "9d830058-386b-4447-81d6-e0e73a605318",
   "metadata": {},
   "outputs": [
    {
     "name": "stdout",
     "output_type": "stream",
     "text": [
      "234\n",
      "<class 'str'>\n"
     ]
    }
   ],
   "source": [
    "# 4\n",
    "a=234\n",
    "str_a=str(a)\n",
    "print(str_a)\n",
    "print(type(str_a))"
   ]
  },
  {
   "cell_type": "code",
   "execution_count": 20,
   "id": "71563d21-38af-46ad-b932-acf7f1fd61d1",
   "metadata": {},
   "outputs": [
    {
     "name": "stdin",
     "output_type": "stream",
     "text": [
      "Enter a number: 2\n"
     ]
    },
    {
     "name": "stdout",
     "output_type": "stream",
     "text": [
      "22\n"
     ]
    }
   ],
   "source": [
    "# 5\n",
    "a=input(\"Enter a number:\")\n",
    "no_a=int(a)\n",
    "print(a * no_a)"
   ]
  },
  {
   "cell_type": "code",
   "execution_count": 28,
   "id": "8753ee22-ebb4-42cd-b86f-414f407a1240",
   "metadata": {},
   "outputs": [
    {
     "name": "stdout",
     "output_type": "stream",
     "text": [
      "Value of x: 10\n"
     ]
    }
   ],
   "source": [
    "# 6\n",
    "    # Invalid variable name (starts with a number)\n",
    "   # 1st_variable = \"This will cause an error\"\n",
    "#except SyntaxError:\n",
    "  #  print(\"Invalid variable name '1st_variable' - cannot start with a number.\")\n",
    "\n",
    "# Valid but not recommended variable name (single letter 'x')\n",
    "x = 10 \n",
    "print(\"Value of x:\", x)"
   ]
  },
  {
   "cell_type": "code",
   "execution_count": 30,
   "id": "8ea09c55-89c9-44bf-b9c7-dbeead33ca66",
   "metadata": {},
   "outputs": [
    {
     "name": "stdout",
     "output_type": "stream",
     "text": [
      "Jatin\n",
      "Jatin\n"
     ]
    }
   ],
   "source": [
    "# 7 \n",
    "first_name ='Jatin'\n",
    "print(first_name)\n",
    "firstName='Jatin'\n",
    "print(firstName)"
   ]
  }
 ],
 "metadata": {
  "kernelspec": {
   "display_name": "Python 3 (ipykernel)",
   "language": "python",
   "name": "python3"
  },
  "language_info": {
   "codemirror_mode": {
    "name": "ipython",
    "version": 3
   },
   "file_extension": ".py",
   "mimetype": "text/x-python",
   "name": "python",
   "nbconvert_exporter": "python",
   "pygments_lexer": "ipython3",
   "version": "3.12.4"
  }
 },
 "nbformat": 4,
 "nbformat_minor": 5
}
